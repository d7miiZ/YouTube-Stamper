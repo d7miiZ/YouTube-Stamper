{
 "cells": [
  {
   "cell_type": "code",
   "execution_count": 76,
   "metadata": {},
   "outputs": [],
   "source": [
    "from youtube_transcript_api import *\n",
    "from iso639 import languages\n",
    "import math"
   ]
  },
  {
   "cell_type": "code",
   "execution_count": 126,
   "metadata": {},
   "outputs": [],
   "source": [
    "def get_transcript_list(youtube_id):\n",
    "    try:\n",
    "        return YouTubeTranscriptApi.list_transcripts(youtube_id)\n",
    "    except:\n",
    "        None\n",
    "\n",
    "def get_langs(transcript_list,manual=True):\n",
    "    if manual:\n",
    "        manual_langs = list(transcript_list._manually_created_transcripts.keys())\n",
    "    else:\n",
    "        manual_langs = list(transcript_list._generated_transcripts.keys())\n",
    "        \n",
    "    langs = []\n",
    "    for lang_code in manual_langs:\n",
    "        try:\n",
    "            langs.append(languages.get(alpha2=lang_code).name)\n",
    "        except:\n",
    "            pass\n",
    "    return langs\n",
    "\n",
    "def get_transcript(transcript_list,lang):\n",
    "    return transcript_list.find_transcript([lang]).fetch()\n",
    "\n",
    "def get_time_stamps(transcript,word):\n",
    "    time_stamps = []\n",
    "    for sentence in transcript:\n",
    "        if word in sentence[\"text\"].lower():\n",
    "            time = sentence[\"start\"]\n",
    "            duration = int(sentence[\"duration\"])\n",
    "            time_formated = ''\n",
    "            if time < 60:\n",
    "                secs = int(time)\n",
    "                time_formated = f'00:00:{secs} - 00:00:{secs+duration}'\n",
    "            elif 60 <= time < 3600:\n",
    "                mins = int(time/60)\n",
    "                secs = int((time % 60) * 60)\n",
    "                secs_lenght = len(str(secs))\n",
    "                secs = secs if secs_lenght < 2 else int(secs / pow(10,secs_lenght-2))\n",
    "                time_formated = f'00:{mins}:{secs} - 00:{mins}:{secs+duration}'\n",
    "            else:\n",
    "                hours = int(time/3600)\n",
    "                mins = int((time % 3600) * 60)\n",
    "                secs = int((time % 3600) * 3600) % 100\n",
    "                secs_lenght = len(str(secs))\n",
    "                secs = secs if secs_lenght < 2 else int(secs / pow(10,secs_lenght-2))\n",
    "                time_formated = f'{hours}:{mins}:{secs} - {hours}:{mins}:{secs+duration}'\n",
    "            time_stamps.append(time_formated)\n",
    "\n",
    "    return time_stamps\n",
    "\n",
    "def get_translation_langs(transcript_list):\n",
    "    translation_langs_code = []\n",
    "    for lang in transcript_list._translation_languages:\n",
    "        try:\n",
    "            translation_langs_code.append(lang[\"language_code\"])\n",
    "        except:\n",
    "            pass\n",
    "    return translation_langs_code"
   ]
  }
 ],
 "metadata": {
  "interpreter": {
   "hash": "afc42d48389851c183feefb692ff96d7f563ac08c561c2826665d9c8da615340"
  },
  "kernelspec": {
   "display_name": "Python 3 (ipykernel)",
   "language": "python",
   "name": "python3"
  },
  "language_info": {
   "codemirror_mode": {
    "name": "ipython",
    "version": 3
   },
   "file_extension": ".py",
   "mimetype": "text/x-python",
   "name": "python",
   "nbconvert_exporter": "python",
   "pygments_lexer": "ipython3",
   "version": "3.8.11"
  }
 },
 "nbformat": 4,
 "nbformat_minor": 2
}
