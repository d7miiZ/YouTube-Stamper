{
 "cells": [
  {
   "cell_type": "markdown",
   "metadata": {},
   "source": [
    "# Using YoutubeAPI "
   ]
  },
  {
   "cell_type": "code",
   "execution_count": null,
   "metadata": {},
   "outputs": [],
   "source": [
    "import os\n",
    "from youtube_transcript_api import YouTubeTranscriptApi\n",
    "# import speech_recognition as sr"
   ]
  },
  {
   "cell_type": "code",
   "execution_count": null,
   "metadata": {},
   "outputs": [],
   "source": [
    "text = YouTubeTranscriptApi.get_transcript(\"4aN5TbGW5JA\", languages=['en'])\n",
    "text"
   ]
  },
  {
   "cell_type": "code",
   "execution_count": null,
   "metadata": {},
   "outputs": [],
   "source": [
    "for str in text:\n",
    "    if \"action\" in str[\"text\"]:\n",
    "        print(str[\"start\"])"
   ]
  },
  {
   "cell_type": "markdown",
   "metadata": {},
   "source": [
    "# Using Facebook Model"
   ]
  },
  {
   "cell_type": "code",
   "execution_count": null,
   "metadata": {},
   "outputs": [],
   "source": [
    "audio_downloader = YoutubeDL({'outtmpl': 'vid.mp4'})\n",
    "\n",
    "while True:\n",
    "  try:\n",
    "    print('Youtube Downloader'.center(40, '_'))\n",
    "    URL = input('Enter youtube url :  ')\n",
    "    audio_downloader.extract_info(URL)\n",
    "  except Exception:\n",
    "    print(\"Couldn\\'t download the audio\")\n",
    "  break"
   ]
  },
  {
   "cell_type": "code",
   "execution_count": null,
   "metadata": {},
   "outputs": [],
   "source": [
    "with me.VideoFileClip(\"vid.mp4.mkv\") as vid: \n",
    "    vid.audio.write_audiofile(\"converted.wav\")"
   ]
  },
  {
   "cell_type": "code",
   "execution_count": null,
   "metadata": {},
   "outputs": [],
   "source": [
    "# r = sr.Recognizer() \n",
    "# with sr.1(\"converted.wav\") as source:\n",
    "#     # listen for the data (load audio to memory)\n",
    "#     audio_data = r.record(source)\n",
    "#     # recognize (convert from speech to text)\n",
    "#     # speech recognition \n",
    "#     try:\n",
    "#        print(r.recognize_google(audio_data,language='en'))\n",
    "#     except sr.UnknownValueError as e:\n",
    "#         print(f\"Error {e}\")"
   ]
  },
  {
   "cell_type": "code",
   "execution_count": null,
   "metadata": {},
   "outputs": [],
   "source": [
    "if os.path.isfile(\"converted.wav\"):\n",
    "    os.remove(\"converted.wav\")\n",
    "else:    ## Show an error ##\n",
    "    print(\"Error\")\n",
    "\n",
    "if os.path.isfile(\"vid.mkv.mkv\"):\n",
    "    os.remove(\"vid.mkv.mkv\")\n",
    "else:    ## Show an error ##\n",
    "    print(\"Error\")"
   ]
  }
 ],
 "metadata": {
  "interpreter": {
   "hash": "afc42d48389851c183feefb692ff96d7f563ac08c561c2826665d9c8da615340"
  },
  "kernelspec": {
   "display_name": "Python 3 (ipykernel)",
   "language": "python",
   "name": "python3"
  },
  "language_info": {
   "codemirror_mode": {
    "name": "ipython",
    "version": 3
   },
   "file_extension": ".py",
   "mimetype": "text/x-python",
   "name": "python",
   "nbconvert_exporter": "python",
   "pygments_lexer": "ipython3",
   "version": "3.8.11"
  }
 },
 "nbformat": 4,
 "nbformat_minor": 2
}
