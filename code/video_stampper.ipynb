{
 "cells": [
  {
   "cell_type": "code",
   "execution_count": 1,
   "metadata": {},
   "outputs": [],
   "source": [
    "import os\n",
    "from youtube_dl import YoutubeDL\n",
    "from youtube_transcript_api import YouTubeTranscriptApi\n",
    "import speech_recognition as sr\n",
    "import moviepy.editor as me"
   ]
  },
  {
   "cell_type": "code",
   "execution_count": null,
   "metadata": {},
   "outputs": [],
   "source": [
    "text = YouTubeTranscriptApi.get_transcript(\"M6adb1j2jPI\", languages=['en'])\n",
    "text"
   ]
  },
  {
   "cell_type": "code",
   "execution_count": null,
   "metadata": {},
   "outputs": [],
   "source": [
    "for str in text:\n",
    "    if \"embedding\" in str[\"text\"]:\n",
    "        print(str[\"start\"])"
   ]
  },
  {
   "cell_type": "code",
   "execution_count": 2,
   "metadata": {},
   "outputs": [
    {
     "name": "stdout",
     "output_type": "stream",
     "text": [
      "___________Youtube Downloader___________\n",
      "[youtube] M6adb1j2jPI: Downloading webpage\n",
      "[youtube] M6adb1j2jPI: Downloading MPD manifest\n"
     ]
    },
    {
     "name": "stderr",
     "output_type": "stream",
     "text": [
      "WARNING: Requested formats are incompatible for merge and will be merged into mkv.\n"
     ]
    },
    {
     "name": "stdout",
     "output_type": "stream",
     "text": [
      "[dashsegments] Total fragments: 35\n",
      "[download] Destination: vid.mkv.f303\n",
      "[download] 100% of 11.64MiB in 00:09                    \n",
      "[download] Destination: vid.mkv.f140\n",
      "[download] 100% of 2.65MiB in 00:46                  \n",
      "[ffmpeg] Merging formats into \"vid.mkv.mkv\"\n",
      "Deleting original file vid.mkv.f303 (pass -k to keep)\n",
      "Deleting original file vid.mkv.f140 (pass -k to keep)\n"
     ]
    }
   ],
   "source": [
    "audio_downloader = YoutubeDL({'outtmpl': 'vid.mkv'})\n",
    "\n",
    "while True:\n",
    "  try:\n",
    "    print('Youtube Downloader'.center(40, '_'))\n",
    "    URL = input('Enter youtube url :  ')\n",
    "    audio_downloader.extract_info(URL)\n",
    "  except Exception:\n",
    "    print(\"Couldn\\'t download the audio\")\n",
    "  break"
   ]
  },
  {
   "cell_type": "code",
   "execution_count": 3,
   "metadata": {},
   "outputs": [
    {
     "name": "stdout",
     "output_type": "stream",
     "text": [
      "MoviePy - Writing audio in converted.wav\n"
     ]
    },
    {
     "name": "stderr",
     "output_type": "stream",
     "text": [
      "                                                                      "
     ]
    },
    {
     "name": "stdout",
     "output_type": "stream",
     "text": [
      "MoviePy - Done.\n"
     ]
    },
    {
     "name": "stderr",
     "output_type": "stream",
     "text": [
      "\r"
     ]
    }
   ],
   "source": [
    "clip = me.VideoFileClip(\"vid.mkv.mkv\") \n",
    "clip.audio.write_audiofile(\"converted.wav\")"
   ]
  },
  {
   "cell_type": "code",
   "execution_count": 7,
   "metadata": {},
   "outputs": [
    {
     "name": "stdout",
     "output_type": "stream",
     "text": [
      "Error \n"
     ]
    }
   ],
   "source": [
    "r = sr.Recognizer() \n",
    "with sr.AudioFile(\"converted.wav\") as source:\n",
    "    # listen for the data (load audio to memory)\n",
    "    audio_data = r.record(source)\n",
    "    # recognize (convert from speech to text)\n",
    "    # speech recognition \n",
    "    try:\n",
    "       print(r.recognize_google(audio_data,language='en-US'))\n",
    "    except sr.UnknownValueError as e:\n",
    "        print(f\"Error {e}\")"
   ]
  }
 ],
 "metadata": {
  "interpreter": {
   "hash": "afc42d48389851c183feefb692ff96d7f563ac08c561c2826665d9c8da615340"
  },
  "kernelspec": {
   "display_name": "Python 3 (ipykernel)",
   "language": "python",
   "name": "python3"
  },
  "language_info": {
   "codemirror_mode": {
    "name": "ipython",
    "version": 3
   },
   "file_extension": ".py",
   "mimetype": "text/x-python",
   "name": "python",
   "nbconvert_exporter": "python",
   "pygments_lexer": "ipython3",
   "version": "3.8.10"
  }
 },
 "nbformat": 4,
 "nbformat_minor": 2
}
