{
 "cells": [
  {
   "cell_type": "code",
   "execution_count": 30,
   "metadata": {},
   "outputs": [],
   "source": [
    "from pytube import YouTube\n",
    "import os"
   ]
  },
  {
   "cell_type": "code",
   "execution_count": 31,
   "metadata": {},
   "outputs": [],
   "source": [
    "yt = YouTube('https://youtu.be/dwLCjZVEtpE')\n",
    "\n",
    "video = yt.streams.filter(only_audio=True).first()\n",
    "\n",
    "out_file = video.download(output_path=\".\")\n",
    "\n",
    "base, ext = os.path.splitext(out_file)\n",
    "new_file = base + '.mp3'\n",
    "os.rename(out_file, new_file)"
   ]
  },
  {
   "cell_type": "code",
   "execution_count": 36,
   "metadata": {},
   "outputs": [
    {
     "name": "stdout",
     "output_type": "stream",
     "text": [
      "\n",
      "\n",
      "{'text': ''}\n"
     ]
    }
   ],
   "source": [
    "\n",
    "from vosk import Model, KaldiRecognizer\n",
    "import json\n",
    "import os\n",
    "\n",
    "model = Model(\"eng\")\n",
    "\n",
    "# Large vocabulary free form recognition\n",
    "rec = KaldiRecognizer(model, 16000)\n",
    "\n",
    "# You can also specify the possible word list\n",
    "#rec = KaldiRecognizer(model, 16000, \"zero oh one two three four five six seven eight nine\")\n",
    "\n",
    "wf = open(\"a.wav\", \"rb\")\n",
    "wf.read(44) # skip header\n",
    "\n",
    "while True:\n",
    "    data = wf.read(4000)\n",
    "    if len(data) == 0:\n",
    "        break\n",
    "    if rec.AcceptWaveform(data):\n",
    "        res = json.loads(rec.Result())\n",
    "        print (res['text'])\n",
    "\n",
    "res = json.loads(rec.FinalResult())\n",
    "print(res)"
   ]
  },
  {
   "cell_type": "code",
   "execution_count": null,
   "metadata": {},
   "outputs": [],
   "source": []
  }
 ],
 "metadata": {
  "interpreter": {
   "hash": "afc42d48389851c183feefb692ff96d7f563ac08c561c2826665d9c8da615340"
  },
  "kernelspec": {
   "display_name": "Python 3.8.11 64-bit ('SHIT': conda)",
   "language": "python",
   "name": "python3"
  },
  "language_info": {
   "codemirror_mode": {
    "name": "ipython",
    "version": 3
   },
   "file_extension": ".py",
   "mimetype": "text/x-python",
   "name": "python",
   "nbconvert_exporter": "python",
   "pygments_lexer": "ipython3",
   "version": "3.8.11"
  },
  "orig_nbformat": 4
 },
 "nbformat": 4,
 "nbformat_minor": 2
}
